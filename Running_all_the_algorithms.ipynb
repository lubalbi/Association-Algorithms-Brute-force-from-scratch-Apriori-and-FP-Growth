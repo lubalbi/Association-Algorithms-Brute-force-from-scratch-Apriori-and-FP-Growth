{
 "cells": [
  {
   "cell_type": "markdown",
   "metadata": {
    "id": "10AnG2dXIalB"
   },
   "source": [
    "# **Midterm Project Report for CS634 - Data Mining**\n",
    "\n",
    "# 10/19/2025"
   ]
  },
  {
   "cell_type": "markdown",
   "metadata": {
    "id": "30NeWTi1JNpH"
   },
   "source": [
    "Student Name: Lucas Marques Balbi\n",
    "\n",
    "Email: lb278@njit.edu\n",
    "\n",
    "Course: CS634 - Data Mining\n",
    "\n",
    "Instructor: Dr. Yasser Adbduallah\n",
    "\n",
    "GitHub Repository: https://github.com/lubalbi/Association-Algorithms-Brute-force-from-scratch-Apriori-and-FP-Growth"
   ]
  },
  {
   "cell_type": "markdown",
   "metadata": {
    "id": "VThWpcNfKmKH"
   },
   "source": [
    "## 1. Introduction"
   ]
  },
  {
   "cell_type": "markdown",
   "metadata": {
    "id": "SfM56Mf-MHYK"
   },
   "source": [
    "### 1.1 Problem Statement"
   ]
  },
  {
   "cell_type": "markdown",
   "metadata": {
    "id": "UjoEAZjwKrV3"
   },
   "source": [
    "The project goal is to find customer frequent patterns among items from retail transactions datasets and generate association rules based on support and confidence values provided by user."
   ]
  },
  {
   "cell_type": "markdown",
   "metadata": {
    "id": "Hctt3RWqPvCY"
   },
   "source": [
    "### 1.2 Project Goals and Scope"
   ]
  },
  {
   "cell_type": "markdown",
   "metadata": {
    "id": "QpD-DAFAPyNo"
   },
   "source": [
    "Implementation of brute-force algorithm from scratch to find frequent itemsets and generate association rules. We will also be using Python libraries for the Apriori and FP-Growth algorithms."
   ]
  },
  {
   "cell_type": "markdown",
   "metadata": {
    "id": "ON4D1pw6QI97"
   },
   "source": [
    "### 1.3 Methodology Overview"
   ]
  },
  {
   "cell_type": "markdown",
   "metadata": {
    "id": "Hx7Sp8gmQLw0"
   },
   "source": [
    "We will go over in details about the following procedures:\n",
    "\n",
    "*   Creating dataset;\n",
    "*   Brute-force algorithm;\n",
    "*   Apriori and FP-growth implementation;\n",
    "*   Results and conclusion"
   ]
  },
  {
   "cell_type": "markdown",
   "metadata": {
    "id": "MCjEMulzU6A7"
   },
   "source": [
    "### 1.4 System packages requirements"
   ]
  },
  {
   "cell_type": "markdown",
   "metadata": {
    "id": "_N2Huh8KU-Lf"
   },
   "source": [
    "It is necessary to install the following language code and libraries in your system before running the code\n",
    "\n",
    "\n",
    "*   Python 3.9+\n",
    "\n",
    "\n",
    "\n",
    "*   Pandas\n",
    "    * pip install pandas\n",
    "*   Numpy\n",
    "    * pip install numpy\n",
    "*   Apyori\n",
    "    * pip install apyori\n",
    "*   Mlxtend\n",
    "    * pip install mlxtend\n",
    "\n",
    "\n"
   ]
  },
  {
   "cell_type": "markdown",
   "metadata": {
    "id": "wcQLdfkuWPlL"
   },
   "source": [
    "## 1.5 GitHub Repository Structure"
   ]
  },
  {
   "cell_type": "markdown",
   "metadata": {},
   "source": [
    "* **`Running_all_the_algorithms.ipynb`** - The main Jupyter Notebook for the project.\n",
    "* **`Project_report.pdf`** - A detailed report and tutorial for the project.\n",
    "* **`readme.txt`** - Contains setup instructions and project requirements.\n",
    "* **Standalone Scripts:**\n",
    "    * `BruteForce.py` - Runs only the Brute-Force algorithm from the command line.\n",
    "    * `Apriori.py` - Runs only the Apriori algorithm from the command line.\n",
    "    * `FPGrowth.py` - Runs only the FP-Growth algorithm from the command line.\n",
    "* **`/Data/`** - Folder containing the datasets.\n",
    "    * `amazon.csv`\n",
    "    * `bestbuy.csv`\n",
    "    * `kmart.csv`\n",
    "    * `nike.csv`\n",
    "    * `walmart.csv`\n",
    "* **`/Screenshots/`** - Folder containing relevant screenshots.\n",
    "    * `01_DataCreation01.png`\n",
    "    * `01_DataCreation02.png`\n",
    "    * `02_Standalone_BruteForce_Script.png`\n",
    "    * `02_Standalone_Apriori_Script.png`\n",
    "    * `02_Standalone_FPGrowth_Script.png`"
   ]
  },
  {
   "cell_type": "markdown",
   "metadata": {
    "id": "yG-pqG8dWepY"
   },
   "source": [
    "## 2. Dataset Creation"
   ]
  },
  {
   "cell_type": "markdown",
   "metadata": {
    "id": "hk2uSaf8DOq_"
   },
   "source": [
    "### 2.1 Creating data file on excel"
   ]
  },
  {
   "cell_type": "markdown",
   "metadata": {
    "id": "tKDRzEW4DU-_"
   },
   "source": [
    "We are going to create 5 databases. It was given 4 databases from the project template file and the last one we will come up with the elements and transactions data.\n",
    "\n",
    "First step is to create the headers which in our case will be Transaction_ID and Transaction. The transaction id column will be from 1 to 20 because we are going to use 20 transaction datapoints. The transaction column will be filled with the products that a costumer would be buying from a certain retail store. We are going to copy/paste the transactions for the amazon, kmart, bestbuy and nike dataset. The walmart is the only database we will comeup with the transactions by ourselves. Keep in mind that this is a determistic situation not random, so our data has to be estabished at the beginning as we are doing"
   ]
  },
  {
   "cell_type": "markdown",
   "metadata": {
    "id": "hfqexSe4GQD8"
   },
   "source": [
    "![First data creation screenshot](screenshots/01_DataCreation01.png)"
   ]
  },
  {
   "cell_type": "markdown",
   "metadata": {
    "id": "UtzSOhtlED_z"
   },
   "source": [
    "When you save each dataset make sure you are saving the file using the correct extension (.csv)"
   ]
  },
  {
   "cell_type": "markdown",
   "metadata": {
    "id": "7X_owzFbGSIq"
   },
   "source": [
    "![Second data creation screenshot](screenshots/01_DataCreation02.png)"
   ]
  },
  {
   "cell_type": "markdown",
   "metadata": {
    "id": "Snf35RhayDog"
   },
   "source": [
    "Additional comments: A real life application of this prelimimary procedure would be implementing a web scraping. The benefict of the a web scraping is to exctract data from websites."
   ]
  },
  {
   "cell_type": "markdown",
   "metadata": {
    "id": "6n6bQIH8GLvP"
   },
   "source": [
    "### 2.2 Loading data"
   ]
  },
  {
   "cell_type": "code",
   "execution_count": 24,
   "metadata": {
    "id": "bYiV5UD1z_ia"
   },
   "outputs": [],
   "source": [
    "import pandas as pd\n",
    "import numpy as np\n",
    "import time\n",
    "import os"
   ]
  },
  {
   "cell_type": "code",
   "execution_count": 25,
   "metadata": {
    "id": "XAvBjE9Idx5I"
   },
   "outputs": [],
   "source": [
    "#create preprocessing function to clean up raw data\n",
    "def preprocess(db):\n",
    "  #clean up header by removing whitespace\n",
    "  db.columns = db.columns.str.strip()\n",
    "\n",
    "  #split list of elements from transaction column by comma delimitation\n",
    "  db['Transaction'] = db['Transaction'].str.split(',')\n",
    "\n",
    "  #remove any whitespace in the elements from each transaction\n",
    "  db['Transaction'] = db['Transaction'].apply(lambda x: [item.strip() for item in x])\n",
    "\n",
    "  #create list of itens\n",
    "  item_list = []\n",
    "  for i in range(len(db['Transaction'])):\n",
    "    for j in range(len(db['Transaction'][i])):\n",
    "      if db['Transaction'][i][j] not in item_list:\n",
    "        item_list.append(db['Transaction'][i][j])\n",
    "\n",
    "  # #create list of transactions\n",
    "  # transactions = []\n",
    "  # for i in range(len(db['Transaction'])):\n",
    "  #   transactions.append(db['Transaction'][i])\n",
    "\n",
    "  return db, item_list\n",
    "\n"
   ]
  },
  {
   "cell_type": "markdown",
   "metadata": {
    "id": "YuxcZ97H0Idq"
   },
   "source": [
    "## 3. User Input"
   ]
  },
  {
   "cell_type": "markdown",
   "metadata": {
    "id": "juoJ1ODc0NYZ"
   },
   "source": [
    "Before we run the models we need to establish the values of support and confidence.\n",
    "\n",
    "The support measures the frequency of an item or itemset occurs. It will measure the popularity of itemset in relation to the transactions. For example, we have total transactions of 10 and itens X and Z can be found together in 3 transactions. In this case the support is 3/10 = 30%\n",
    "\n",
    "The confidence will provide how likelihood that the items purchased together. It will measure the correlation of the itens. For example, we have total transaction of 10 and the itens X and Z can found together in 3 transactions but item X can be found in a total of 5 transactions. The X->Z confidence in this case will be 3/5 = 60%\n",
    "\n",
    "\n",
    "In short, high support value improves reliability by filtering out rare patterns, while high confidence value improves prediction by filtering out unreliable associations."
   ]
  },
  {
   "cell_type": "code",
   "execution_count": 28,
   "metadata": {
    "colab": {
     "base_uri": "https://localhost:8080/"
    },
    "id": "K5VlWqMk7mIX",
    "outputId": "a7edf06e-51c0-49c6-f34f-ee7632260ab3"
   },
   "outputs": [
    {
     "name": "stdout",
     "output_type": "stream",
     "text": [
      "Welcome to Apriori 2.0!\n",
      "Please select one of the following retail store (type corresponding number only):\n",
      "1. amazon\n",
      "2. kmart\n",
      "3. bestbuy\n",
      "4. nike\n",
      "5. walmart\n",
      "6. Exit\n"
     ]
    },
    {
     "name": "stdin",
     "output_type": "stream",
     "text": [
      " 1\n"
     ]
    },
    {
     "name": "stdout",
     "output_type": "stream",
     "text": [
      "You selected amazon!\n",
      "Please enter the percentage of minimum support(values between 1 and 100)\n"
     ]
    },
    {
     "name": "stdin",
     "output_type": "stream",
     "text": [
      " 50\n"
     ]
    },
    {
     "name": "stdout",
     "output_type": "stream",
     "text": [
      "Minimum support is 50%\n",
      "Please enter the percentage of minimum confidence(values between 1 and 100)\n"
     ]
    },
    {
     "name": "stdin",
     "output_type": "stream",
     "text": [
      " 50\n"
     ]
    },
    {
     "name": "stdout",
     "output_type": "stream",
     "text": [
      "Minimum confidence is 50%\n"
     ]
    }
   ],
   "source": [
    "#list of retail store corresponding to index 0 to 4\n",
    "all_retail_stores = ('amazon', 'kmart', 'bestbuy', 'nike', 'walmart')\n",
    "\n",
    "print(\"Welcome to Apriori 2.0!\")\n",
    "print(\"Please select one of the following retail store (type corresponding number only):\")\n",
    "#print out number 1. and the first retail store from the list and so on\n",
    "for i in range(len(all_retail_stores)):\n",
    "  print(str(i + 1) + \". \" + all_retail_stores[i])\n",
    "print(\"6. Exit\")\n",
    "\n",
    "########################################\n",
    "'''Input of the retail store number'''\n",
    "########################################\n",
    "user_input = input()\n",
    "\n",
    "\n",
    "\n",
    "try:\n",
    "    #make sure the input is a number\n",
    "    retail_store_number = int(user_input)\n",
    "\n",
    "    #check if user input is valid (int number between 1 to 5)\n",
    "    if 1 <= retail_store_number <= 5:\n",
    "      retail_store = all_retail_stores[retail_store_number - 1]\n",
    "      print(\"You selected \" + retail_store + \"!\")\n",
    "\n",
    "      ########################################\n",
    "      '''Input of the minimum support value'''\n",
    "      ########################################\n",
    "      #ask user to provide minimum support and store it\n",
    "      print(\"Please enter the percentage of minimum support(values between 1 and 100)\")\n",
    "      try:\n",
    "        min_support = int(input())\n",
    "        if 1 <= min_support <= 100:\n",
    "          print(\"Minimum support is \" + str(min_support) + \"%\")\n",
    "\n",
    "          #########################################################\n",
    "          '''Input of the minimum confidence value'''\n",
    "          #########################################################\n",
    "          #ask user to provide minimum confidence and store it\n",
    "          print(\"Please enter the percentage of minimum confidence(values between 1 and 100)\")\n",
    "          try:\n",
    "            min_confidence = int(input())\n",
    "            if 1 <= min_confidence <= 100:\n",
    "              print(\"Minimum confidence is \" + str(min_confidence) + \"%\")\n",
    "\n",
    "            #error message if wrong number for confidence input\n",
    "            else:\n",
    "              print(\"Invalid Confidence value input. Please try again.\")\n",
    "              exit\n",
    "          #error message if not a number for confidence input\n",
    "          except ValueError:\n",
    "            print(\"Invalid Confidence value input. Please try again.\")\n",
    "            exit\n",
    "          #########################################################\n",
    "          '''End of validation of the entered minimum confidence'''\n",
    "          #########################################################\n",
    "\n",
    "\n",
    "        #error message if wrong number for support input\n",
    "        else:\n",
    "          print(\"Invalid Support value input. Please try again.\")\n",
    "          exit\n",
    "      #error message if not a number for support input\n",
    "      except ValueError:\n",
    "        print(\"Invalid Support value input. Please try again.\")\n",
    "        exit\n",
    "      ########################################\n",
    "      '''End of validation of the entered minimum support value'''\n",
    "      ########################################\n",
    "\n",
    "\n",
    "    #check if user wants to exit (number 6)\n",
    "    elif int(user_input) == 6:\n",
    "      print(\"Thank you for using Apriori 2.0!\")\n",
    "      exit\n",
    "\n",
    "    #if the input is not a valid number it will come out an error message\n",
    "    else:\n",
    "      print(\"Invalid Retail store input. Please try again.\")\n",
    "      exit\n",
    "\n",
    "#if the input is not a number it will come out an error message\n",
    "except ValueError:\n",
    "  print(\"Invalid Retail store input. Please try again.\")\n",
    "  exit\n",
    "\n",
    "########################################\n",
    "'''End of validation of the entered retail store number'''\n",
    "########################################\n",
    "\n",
    "\n",
    "#Load dataset selected\n",
    "db_raw = pd.read_csv('Data/' + ( retail_store + '.csv'), encoding='cp1252') \n",
    "#Preprocess the data\n",
    "database, item_list = preprocess(db_raw)\n",
    "\n",
    "# print(item_list)\n",
    "# print(database)\n"
   ]
  },
  {
   "cell_type": "markdown",
   "metadata": {
    "id": "ecBfL2iUWl56"
   },
   "source": [
    "## 4. Brute Force Algorithm"
   ]
  },
  {
   "cell_type": "markdown",
   "metadata": {
    "id": "-AwC4CkCRFfw"
   },
   "source": [
    "This algorithm will evaluate every possible combination of itens for the provided support and confidence values by the user. This algorithm takes more time to find all the itens combinations that equal or greater than the two metric parameters.\n",
    "\n",
    "First step is to find all the possible unique combinations of the elements. As we create the combinations we will count how many transactions have that specific combination. The computed number is the frequency of the combination thru all the transactions. \n",
    "\n",
    "Itemset level is defined as the number of itens we are considering for the all possible combinations. For example, the itemset 1 has one only iten purchased, then itemset 2 has all the possible combinations of purchase of two itens.\n",
    "\n",
    "We can stop the process when we get to an itemset level where all the combinations have frequency equals to zero because for sure the next level will not have any frequency as well."
   ]
  },
  {
   "cell_type": "code",
   "execution_count": 71,
   "metadata": {
    "colab": {
     "base_uri": "https://localhost:8080/"
    },
    "id": "fcFPzfGhXwew",
    "outputId": "1c1ef108-6384-4abe-9dae-a401a3b49217"
   },
   "outputs": [
    {
     "name": "stdout",
     "output_type": "stream",
     "text": [
      "Processing 1 itemset\n",
      "Processing 2 itemset\n",
      "Processing 3 itemset\n",
      "Processing 4 itemset\n",
      "Processing 5 itemset\n",
      "Processing 6 itemset\n",
      "No frequent itemsets found for #6 itemset\n",
      "\n",
      "The dictionary with all the combinations has 74 different elements\n",
      "A Beginner’s Guide: 11\n",
      "Java: The Complete Reference: 10\n",
      "Java For Dummies: 13\n",
      "Android Programming: The Big Nerd Ranch: 13\n",
      "Head First Java 2nd Edition: 8\n",
      "Beginning Programming with Java: 6\n",
      "Java 8 Pocket Guide: 4\n",
      "C++ Programming in Easy Steps: 1\n",
      "HTML and CSS: Design and Build Websites: 2\n",
      "A Beginner’s Guide ; Java: The Complete Reference: 9\n",
      "A Beginner’s Guide ; Java For Dummies: 9\n",
      "A Beginner’s Guide ; Android Programming: The Big Nerd Ranch: 6\n",
      "A Beginner’s Guide ; Head First Java 2nd Edition: 3\n",
      "A Beginner’s Guide ; Beginning Programming with Java: 1\n",
      "A Beginner’s Guide ; Java 8 Pocket Guide: 1\n",
      "A Beginner’s Guide ; HTML and CSS: Design and Build Websites: 2\n",
      "Java: The Complete Reference ; Java For Dummies: 10\n",
      "Java: The Complete Reference ; Android Programming: The Big Nerd Ranch: 6\n",
      "Java: The Complete Reference ; Head First Java 2nd Edition: 1\n",
      "Java: The Complete Reference ; Java 8 Pocket Guide: 1\n",
      "Java: The Complete Reference ; HTML and CSS: Design and Build Websites: 2\n",
      "Java For Dummies ; Android Programming: The Big Nerd Ranch: 9\n",
      "Java For Dummies ; Head First Java 2nd Edition: 3\n",
      "Java For Dummies ; Beginning Programming with Java: 1\n",
      "Java For Dummies ; Java 8 Pocket Guide: 1\n",
      "Java For Dummies ; HTML and CSS: Design and Build Websites: 2\n",
      "Android Programming: The Big Nerd Ranch ; Head First Java 2nd Edition: 6\n",
      "Android Programming: The Big Nerd Ranch ; Beginning Programming with Java: 3\n",
      "Android Programming: The Big Nerd Ranch ; Java 8 Pocket Guide: 1\n",
      "Head First Java 2nd Edition ; Beginning Programming with Java: 4\n",
      "Head First Java 2nd Edition ; Java 8 Pocket Guide: 1\n",
      "Beginning Programming with Java ; Java 8 Pocket Guide: 3\n",
      "Beginning Programming with Java ; C++ Programming in Easy Steps: 1\n",
      "Java 8 Pocket Guide ; C++ Programming in Easy Steps: 1\n",
      "Java 8 Pocket Guide ; HTML and CSS: Design and Build Websites: 1\n",
      "A Beginner’s Guide ; Java: The Complete Reference ; Java For Dummies: 9\n",
      "A Beginner’s Guide ; Java: The Complete Reference ; Android Programming: The Big Nerd Ranch: 5\n",
      "A Beginner’s Guide ; Java: The Complete Reference ; Head First Java 2nd Edition: 1\n",
      "A Beginner’s Guide ; Java: The Complete Reference ; Java 8 Pocket Guide: 1\n",
      "A Beginner’s Guide ; Java: The Complete Reference ; HTML and CSS: Design and Build Websites: 2\n",
      "A Beginner’s Guide ; Java For Dummies ; Android Programming: The Big Nerd Ranch: 5\n",
      "A Beginner’s Guide ; Java For Dummies ; Head First Java 2nd Edition: 1\n",
      "A Beginner’s Guide ; Java For Dummies ; Java 8 Pocket Guide: 1\n",
      "A Beginner’s Guide ; Java For Dummies ; HTML and CSS: Design and Build Websites: 2\n",
      "A Beginner’s Guide ; Android Programming: The Big Nerd Ranch ; Head First Java 2nd Edition: 2\n",
      "A Beginner’s Guide ; Head First Java 2nd Edition ; Beginning Programming with Java: 1\n",
      "A Beginner’s Guide ; Java 8 Pocket Guide ; HTML and CSS: Design and Build Websites: 1\n",
      "Java: The Complete Reference ; Java For Dummies ; Android Programming: The Big Nerd Ranch: 6\n",
      "Java: The Complete Reference ; Java For Dummies ; Head First Java 2nd Edition: 1\n",
      "Java: The Complete Reference ; Java For Dummies ; Java 8 Pocket Guide: 1\n",
      "Java: The Complete Reference ; Java For Dummies ; HTML and CSS: Design and Build Websites: 2\n",
      "Java: The Complete Reference ; Android Programming: The Big Nerd Ranch ; Head First Java 2nd Edition: 1\n",
      "Java: The Complete Reference ; Java 8 Pocket Guide ; HTML and CSS: Design and Build Websites: 1\n",
      "Java For Dummies ; Android Programming: The Big Nerd Ranch ; Head First Java 2nd Edition: 3\n",
      "Java For Dummies ; Android Programming: The Big Nerd Ranch ; Beginning Programming with Java: 1\n",
      "Java For Dummies ; Head First Java 2nd Edition ; Beginning Programming with Java: 1\n",
      "Java For Dummies ; Java 8 Pocket Guide ; HTML and CSS: Design and Build Websites: 1\n",
      "Android Programming: The Big Nerd Ranch ; Head First Java 2nd Edition ; Beginning Programming with Java: 2\n",
      "Android Programming: The Big Nerd Ranch ; Beginning Programming with Java ; Java 8 Pocket Guide: 1\n",
      "Head First Java 2nd Edition ; Beginning Programming with Java ; Java 8 Pocket Guide: 1\n",
      "Beginning Programming with Java ; Java 8 Pocket Guide ; C++ Programming in Easy Steps: 1\n",
      "A Beginner’s Guide ; Java: The Complete Reference ; Java For Dummies ; Android Programming: The Big Nerd Ranch: 5\n",
      "A Beginner’s Guide ; Java: The Complete Reference ; Java For Dummies ; Head First Java 2nd Edition: 1\n",
      "A Beginner’s Guide ; Java: The Complete Reference ; Java For Dummies ; Java 8 Pocket Guide: 1\n",
      "A Beginner’s Guide ; Java: The Complete Reference ; Java For Dummies ; HTML and CSS: Design and Build Websites: 2\n",
      "A Beginner’s Guide ; Java: The Complete Reference ; Android Programming: The Big Nerd Ranch ; Head First Java 2nd Edition: 1\n",
      "A Beginner’s Guide ; Java: The Complete Reference ; Java 8 Pocket Guide ; HTML and CSS: Design and Build Websites: 1\n",
      "A Beginner’s Guide ; Java For Dummies ; Android Programming: The Big Nerd Ranch ; Head First Java 2nd Edition: 1\n",
      "A Beginner’s Guide ; Java For Dummies ; Java 8 Pocket Guide ; HTML and CSS: Design and Build Websites: 1\n",
      "Java: The Complete Reference ; Java For Dummies ; Android Programming: The Big Nerd Ranch ; Head First Java 2nd Edition: 1\n",
      "Java: The Complete Reference ; Java For Dummies ; Java 8 Pocket Guide ; HTML and CSS: Design and Build Websites: 1\n",
      "Java For Dummies ; Android Programming: The Big Nerd Ranch ; Head First Java 2nd Edition ; Beginning Programming with Java: 1\n",
      "A Beginner’s Guide ; Java: The Complete Reference ; Java For Dummies ; Android Programming: The Big Nerd Ranch ; Head First Java 2nd Edition: 1\n",
      "A Beginner’s Guide ; Java: The Complete Reference ; Java For Dummies ; Java 8 Pocket Guide ; HTML and CSS: Design and Build Websites: 1\n"
     ]
    }
   ],
   "source": [
    "from itertools import combinations\n",
    "from collections import Counter\n",
    "\n",
    "#set initial time\n",
    "start_time_bf = time.time()\n",
    "\n",
    "#create a dictionary with all the possible unique combinations of itens\n",
    "all_combinations = {}\n",
    "\n",
    "'''Initial ideal was to implement loop for each item set\n",
    "but since we have 9 or 10 different itens it will be very mannual code as you can see below.\n",
    "The commented out code below shows the iterations up to three itens.\n",
    "We will use an alternative way that will save us time and effort.\n",
    "The 'combinations' function from itertool library will perform the same idea of what it is written below but for all the itens\n",
    "\n",
    "\n",
    "#add single itens to dictionary\n",
    "for item in item_list:\n",
    "  all_combinations[item] = 0\n",
    "\n",
    "#add unique pairs of itens to dictionary\n",
    "for i in range(len(item_list)):\n",
    "  for j in range(i + 1, len(item_list)):\n",
    "    all_combinations[item_list[i] + \" ; \" + item_list[j]] = 0\n",
    "\n",
    "#add unique combinations of three itens to dictionary\n",
    "for i in range(len(item_list)):\n",
    "  for j in range(i + 1, len(item_list)):\n",
    "    for k in range(j + 1, len(item_list)):\n",
    "      all_combinations[item_list[i] + \" ; \" + item_list[j] + \" ; \" + item_list[k]] = 0\n",
    "'''\n",
    "\n",
    "#define the max number of itemset\n",
    "max_item_set = len(item_list)\n",
    "\n",
    "#Start loop thru the each itemset\n",
    "for item_set in range(1, max_item_set + 1):\n",
    "\n",
    "  #Add a flag to make sure we can find at least one combination for this itemset level\n",
    "  itemset_with_combinations = False\n",
    "\n",
    "  print(f\"Processing {item_set} itemset\")\n",
    "\n",
    "  #compute all the unique itens combination possible for this itemset level\n",
    "  current_itemset_combinations = {}\n",
    "  for item_combination in combinations(item_list, item_set):\n",
    "    key = ' ; '.join(item_combination)\n",
    "    current_itemset_combinations[key] = 0\n",
    "\n",
    "  #Count the frequencies for this itemset level\n",
    "  for transaction in database['Transaction']:\n",
    "    for item in current_itemset_combinations:\n",
    "        if set(item.split(' ; ')).issubset(set(transaction)):\n",
    "            current_itemset_combinations[item] += 1\n",
    "\n",
    "  #check if there is combinations found in this itemset \n",
    "  #and record to dictionary with all combinations\n",
    "  for key, value in current_itemset_combinations.items():\n",
    "      if value > 0:\n",
    "          all_combinations[key] = value\n",
    "          itemset_with_combinations = True\n",
    "\n",
    "  #if there is no combinations found in this itemset\n",
    "  if not itemset_with_combinations:\n",
    "      print(f\"No frequent itemsets found for #{item_set} itemset\")\n",
    "      break\n",
    "\n",
    "\n",
    "#print out the quantity of elements in the dictionary\n",
    "print(\"\\nThe dictionary with all the combinations has\", len(all_combinations), \"different elements\")\n",
    "\n",
    "#print all the possible combinations until first itemset level with all combination zeros\n",
    "#print all the frequencies\n",
    "for key, value in all_combinations.items():\n",
    "    print(f\"{key}: {value}\")\n"
   ]
  },
  {
   "cell_type": "markdown",
   "metadata": {
    "id": "w1jUabPoPMZX"
   },
   "source": [
    "Now that we have all the possible combinations and its frequency, our next step will be to compute the support for each element from the dictionary.Then, we will create a support dictionary that includes only the elements that have a support equal or greater than the one entered by the user.\n",
    "\n",
    "Support calculation is just the number of transactions that can has a certain element from the dictionary divide by the total number of transactions from the dataset. We will come out with the frequency of single item from the dictionary."
   ]
  },
  {
   "cell_type": "code",
   "execution_count": 73,
   "metadata": {
    "colab": {
     "base_uri": "https://localhost:8080/"
    },
    "id": "uopiU_dKOGxI",
    "outputId": "218e7f87-c21f-4b49-aa6c-4324037fb12d"
   },
   "outputs": [
    {
     "name": "stdout",
     "output_type": "stream",
     "text": [
      "Support Dictionary\n",
      "A Beginner’s Guide: 0.55\n",
      "Java: The Complete Reference: 0.5\n",
      "Java For Dummies: 0.65\n",
      "Android Programming: The Big Nerd Ranch: 0.65\n",
      "Java: The Complete Reference ; Java For Dummies: 0.5\n"
     ]
    }
   ],
   "source": [
    "#define a dictionary for support requirement achieved\n",
    "support_dict = {}\n",
    "\n",
    "#define total number of transactions\n",
    "total_transactions = len(database)\n",
    "\n",
    "#compute support and add to the support dictionary\n",
    "for key, value in all_combinations.items():\n",
    "  support = value / total_transactions\n",
    "  if support >= (min_support / 100):\n",
    "    support_dict[key] = support\n",
    "\n",
    "#title for output\n",
    "print(\"Support Dictionary\")\n",
    "\n",
    "#print out the support dictionary\n",
    "for key, value in support_dict.items():\n",
    "  print(f\"{key}: {value}\")"
   ]
  },
  {
   "cell_type": "markdown",
   "metadata": {
    "id": "pyJ86r2LPrt3"
   },
   "source": [
    "Final step is to find the confidence for all possible combinations of the elements from the support dictionary"
   ]
  },
  {
   "cell_type": "code",
   "execution_count": 75,
   "metadata": {
    "colab": {
     "base_uri": "https://localhost:8080/"
    },
    "id": "xUmc6FmOPeKc",
    "outputId": "63317ea2-2b21-43a5-b231-733dfe40f185"
   },
   "outputs": [
    {
     "name": "stdout",
     "output_type": "stream",
     "text": [
      "Confidence Dictionary\n",
      "Java: The Complete Reference -> Java For Dummies: 1.0\n",
      "Java For Dummies -> Java: The Complete Reference: 0.7692307692307692\n"
     ]
    }
   ],
   "source": [
    "from itertools import permutations\n",
    "\n",
    "#define confidence dictionary\n",
    "confidence_dict = {}\n",
    "\n",
    "#create function to check all the permutations between itens in a transaction\n",
    "def find_key(items, dictionary):\n",
    "\n",
    "    #for one element in the transaction\n",
    "    if len(items) == 1:\n",
    "        key = items[0]\n",
    "        return key if key in dictionary else None\n",
    "\n",
    "    #for more than 1 element in the transaction\n",
    "    for p in permutations(items):\n",
    "        key = ' ; '.join(p)\n",
    "        if key in dictionary:\n",
    "            return key\n",
    "    \n",
    "    #for no key found \n",
    "    return None\n",
    "\n",
    "#compute confidence for each element from the support dictionary\n",
    "for support_itemset, support_value in support_dict.items():\n",
    "  #split into different elements in each itemset\n",
    "  #before:  Java: The Complete Reference ; Java For Dummies\n",
    "  #now:   ['Java: The Complete Reference', 'Java For Dummies'])\n",
    "  support_item = support_itemset.split(' ; ')\n",
    "\n",
    "  # create rule to to deal with itemset with 2 or more elements, others can be skipped\n",
    "  if len(support_item) < 2:\n",
    "    continue\n",
    "\n",
    "  #compute all combinations of itens (X->Y)\n",
    "  for i in range(1, len(support_item)):\n",
    "    #find X(antecedent)\n",
    "    for combination_x in combinations(support_item, i):\n",
    "\n",
    "        #find Y(consequent)\n",
    "        combination_y = list(set(support_item) - set(combination_x))\n",
    "\n",
    "        #find key for x and y if they exists\n",
    "        xkey = find_key(list(combination_x), support_dict)\n",
    "        ykey = find_key(list(combination_y), support_dict)\n",
    "\n",
    "        #continue if both keys exists\n",
    "        if xkey and ykey:\n",
    "            #retrieve support count for X(antecedent)\n",
    "            support_x = support_dict[xkey]\n",
    "            \n",
    "            #retrieve support count for Y(consequent)\n",
    "            support_y = support_dict[ykey]\n",
    "\n",
    "            #compute confidence\n",
    "            confidence = support_value / support_x\n",
    "            \n",
    "            #store if confidence is greater than minimun confidence\n",
    "            if confidence >= (min_confidence / 100):\n",
    "                x_out = ' ; '.join(sorted(list(combination_x)))\n",
    "                y_out = ' ; '.join(sorted(combination_y))\n",
    "                confidence_dict[x_out + \" -> \" + y_out] = confidence\n",
    "\n",
    "#title for output\n",
    "print(\"Confidence Dictionary\")\n",
    "\n",
    "#print out confidence\n",
    "for key, value in confidence_dict.items():\n",
    "  print(f\"{key}: {value}\")"
   ]
  },
  {
   "cell_type": "code",
   "execution_count": 76,
   "metadata": {
    "colab": {
     "base_uri": "https://localhost:8080/",
     "height": 942
    },
    "id": "MXIkRxrS1Bs-",
    "outputId": "2cdd7631-8d0a-45b5-ddba-ed13d87bbc94"
   },
   "outputs": [
    {
     "name": "stdout",
     "output_type": "stream",
     "text": [
      "Brute Force Results\n",
      "X: Java: The Complete Reference\n",
      "Y: Java For Dummies\n",
      "Rule: Java: The Complete Reference -> Java For Dummies\n",
      "Support:  0.5\n",
      "Confidence:  1.0\n",
      "\n",
      "X: Java For Dummies\n",
      "Y: Java: The Complete Reference\n",
      "Rule: Java For Dummies -> Java: The Complete Reference\n",
      "Support:  0.5\n",
      "Confidence:  0.7692307692307692\n",
      "\n",
      "Total time for Brute Force Algorithm:  0.08844423294067383 seconds\n"
     ]
    }
   ],
   "source": [
    "#final results\n",
    "print(\"Brute Force Results\")\n",
    "\n",
    "#define the outputs that we are looking for\n",
    "first_elem_bf = \"\"\n",
    "second_elem_bf = \"\"\n",
    "confidence_bf = 0\n",
    "support_bf = 0\n",
    "\n",
    "#loop thru the confidence dictionary to come up with the results\n",
    "for key, value in confidence_dict.items():\n",
    "    #find X and Y for X->Y and store them as first and second element\n",
    "    first_elem_bf = key.split(\" -> \")[0]\n",
    "    second_elem_bf = key.split(\" -> \")[1]\n",
    "\n",
    "    #store confidence values\n",
    "    confidence_bf = value\n",
    "\n",
    "    #create key to search in the support dictionary (A->B)\n",
    "    all_possible_items = first_elem_bf.split(' ; ') + second_elem_bf.split(' ; ')\n",
    "    \n",
    "    support_key_bf = None\n",
    "\n",
    "    #check all the permutation of the items to find the correct key\n",
    "    for p in permutations(all_possible_items):\n",
    "        current_key_option = ' ; '.join(p)\n",
    "        if current_key_option in support_dict:\n",
    "            support_key_bf = current_key_option\n",
    "            break # Stop once the key is found\n",
    "    \n",
    "\n",
    "\n",
    "    #find support value\n",
    "    if support_key_bf:\n",
    "        support_bf = support_dict[support_key_bf]\n",
    "    \n",
    "        #print out the results\n",
    "        print(\"X:\", first_elem_bf)\n",
    "        print(\"Y:\", second_elem_bf)\n",
    "        print(\"Rule:\", first_elem_bf, \"->\", second_elem_bf)\n",
    "        print(\"Support: \", support_bf)\n",
    "        print(\"Confidence: \", confidence_bf)\n",
    "        print()\n",
    "\n",
    "    else:\n",
    "        print(f\"\\nWarning: Could not find support for the key '{support_key_bf}'. Skipping.\")\n",
    "\n",
    "#set final time\n",
    "end_time_bf = time.time()\n",
    "\n",
    "#compute total time for brute force algorithm\n",
    "total_time_bf = end_time_bf - start_time_bf\n",
    "print(\"Total time for Brute Force Algorithm: \", total_time_bf, \"seconds\")"
   ]
  },
  {
   "cell_type": "markdown",
   "metadata": {
    "id": "wRGvSLK5Woic"
   },
   "source": [
    "## 5. Apriori"
   ]
  },
  {
   "cell_type": "code",
   "execution_count": 78,
   "metadata": {
    "colab": {
     "base_uri": "https://localhost:8080/"
    },
    "id": "i--VfpxxIObj",
    "outputId": "f45e4cbf-22f5-41de-8e81-62eb692386f1"
   },
   "outputs": [
    {
     "name": "stdout",
     "output_type": "stream",
     "text": [
      "Apriori Results\n",
      "X: Java For Dummies\n",
      "Y: Java: The Complete Reference\n",
      "Rule: Java For Dummies -> Java: The Complete Reference\n",
      "Support:  0.5\n",
      "Confidence:  0.7692307692307692\n",
      "\n",
      "X: Java: The Complete Reference\n",
      "Y: Java For Dummies\n",
      "Rule: Java: The Complete Reference -> Java For Dummies\n",
      "Support:  0.5\n",
      "Confidence:  1.0\n",
      "\n",
      "Total time for Apriori Algorithm:  0.00099945068359375 seconds\n"
     ]
    }
   ],
   "source": [
    "from apyori import apriori\n",
    "\n",
    "#set start time\n",
    "start_time_apriori = time.time()\n",
    "\n",
    "#extract the transaction column as a python list\n",
    "#apyori does not support panda format here\n",
    "transactions = []\n",
    "for i in range(len(database['Transaction'])):\n",
    "  transactions.append(database['Transaction'][i])\n",
    "\n",
    "#run the apriori method\n",
    "association_rules_apriori = apriori(transactions=transactions, #use list of transactions as the input\n",
    "                                    min_support=(min_support/100), #convert the entered min support value to decimal\n",
    "                                    min_confidence=(min_confidence/100)) #convert entered confidence value to decimal\n",
    "\n",
    "#convert all the associations to a list\n",
    "apriori_results = list(association_rules_apriori)\n",
    "\n",
    "#if there is no association print out a message\n",
    "if apriori_results == []:\n",
    "  print(\"No association found\")\n",
    "else:\n",
    "  print(\"Apriori Results\")\n",
    "\n",
    "\n",
    "#define the outputs that we are looking for\n",
    "first_elem_apriori = \"\"\n",
    "second_elem_apriori = \"\"\n",
    "confidence_apriori = 0\n",
    "support_apriori = 0\n",
    "\n",
    "\n",
    "\n",
    "#list comes out in this format\n",
    "#[RelationRecord(items=frozenset({'XX'}), support=XX, ordered_statistics=[OrderedStatistic(items_base=frozenset(), items_add=frozenset({'XX'}), confidence=0.55, lift=1.0)]),\n",
    "#it is a list with a lof of relations recorded\n",
    "#we need to access inside each relation record so lets create a loop\n",
    "for relation_record in apriori_results:\n",
    "  #record the support\n",
    "  support_apriori = relation_record.support\n",
    "\n",
    "  #create another loop to access inside the ordered statistics data\n",
    "  for item_recorded in relation_record.ordered_statistics:\n",
    "\n",
    "    #if there is no value for the first or secound element skip to the end\n",
    "    if not item_recorded.items_base or not item_recorded.items_add:\n",
    "      continue\n",
    "\n",
    "    #find x and y for X->Y and store them as first and second element\n",
    "    #create another loop to access the item base (X)\n",
    "    for item in item_recorded.items_base:\n",
    "      first_elem_apriori = item\n",
    "\n",
    "    #create another loop to access the item add (Y)\n",
    "    for item in item_recorded.items_add:\n",
    "      second_elem_apriori = item\n",
    "\n",
    "    #store confidence values\n",
    "    confidence_apriori = item_recorded.confidence\n",
    "\n",
    "    #print out the results\n",
    "\n",
    "    print(\"X:\", first_elem_apriori)\n",
    "    print(\"Y:\", second_elem_apriori)\n",
    "    print(\"Rule:\", first_elem_apriori, \"->\", second_elem_apriori)\n",
    "    print(\"Support: \", support_apriori)\n",
    "    print(\"Confidence: \", confidence_apriori)\n",
    "    print()\n",
    "\n",
    "#set end time\n",
    "end_time_apriori = time.time()\n",
    "\n",
    "#compute total time for apriori algorithm\n",
    "total_time_apriori = end_time_apriori - start_time_apriori\n",
    "print(\"Total time for Apriori Algorithm: \", total_time_apriori, \"seconds\")\n",
    "\n"
   ]
  },
  {
   "cell_type": "markdown",
   "metadata": {
    "id": "cqPBsVZJuk5s"
   },
   "source": [
    "## 6. FP-Growth"
   ]
  },
  {
   "cell_type": "code",
   "execution_count": 80,
   "metadata": {
    "colab": {
     "base_uri": "https://localhost:8080/"
    },
    "id": "74ZYPGBOvkQ8",
    "outputId": "4daf847a-3119-4689-833a-83400f375521"
   },
   "outputs": [],
   "source": [
    "from mlxtend.preprocessing import TransactionEncoder\n",
    "from mlxtend.frequent_patterns import fpgrowth\n",
    "from mlxtend.frequent_patterns import association_rules\n",
    "\n",
    "#set start time\n",
    "start_time_fpg = time.time()\n",
    "\n",
    "#extract the transaction column as a python list\n",
    "#mlxtend requires one hot encoded format\n",
    "transactions = []\n",
    "for i in range(len(database['Transaction'])):\n",
    "  transactions.append(database['Transaction'][i])\n",
    "\n",
    "#convert the list into one-hot encoded columns (T/F for each item)\n",
    "transac_encoder = TransactionEncoder()\n",
    "\n",
    "#take all the unique values and transform it to a matrix\n",
    "transac_array = transac_encoder.fit(transactions).transform(transactions)\n",
    "\n",
    "#convert the matrix to a Panda dataframe\n",
    "transac_df = pd.DataFrame(transac_array, columns=transac_encoder.columns_)\n",
    "\n",
    "# #print out result\n",
    "# print(transac_df)"
   ]
  },
  {
   "cell_type": "code",
   "execution_count": 81,
   "metadata": {
    "colab": {
     "base_uri": "https://localhost:8080/"
    },
    "id": "YQmUd6TYxv-X",
    "outputId": "d434cbd4-bf7a-4065-a274-ee6769758377"
   },
   "outputs": [],
   "source": [
    "#run fp growth algorithm\n",
    "frequent_itemsets_fpg = fpgrowth(transac_df, min_support=(min_support/100), use_colnames=True)\n",
    "\n",
    "# #print out result\n",
    "# print(frequent_itemsets_fpg)"
   ]
  },
  {
   "cell_type": "code",
   "execution_count": 82,
   "metadata": {
    "colab": {
     "base_uri": "https://localhost:8080/"
    },
    "id": "q4PReYzYx7cm",
    "outputId": "65c07beb-5eb5-43a9-8c12-434469c2d0cb"
   },
   "outputs": [],
   "source": [
    "#generate association rules from the frequent itemsets\n",
    "association_rules_fpg = association_rules(frequent_itemsets_fpg, min_threshold=(min_confidence/100))\n",
    "\n",
    "#make sure that association rules ha no empty X or Y for X->Y\n",
    "association_rules_fpg = association_rules_fpg.dropna(subset=['antecedents', 'consequents'])\n",
    "\n",
    "# #print out result\n",
    "# print(association_rules_fpg)\n"
   ]
  },
  {
   "cell_type": "code",
   "execution_count": 83,
   "metadata": {
    "colab": {
     "base_uri": "https://localhost:8080/"
    },
    "id": "qp-26uDly2sS",
    "outputId": "aac7a45d-fbab-408e-d47a-8b67c4365dcb"
   },
   "outputs": [
    {
     "name": "stdout",
     "output_type": "stream",
     "text": [
      "FP-Growth Results\n",
      "X: ['Java For Dummies']\n",
      "Y: ['Java: The Complete Reference']\n",
      "Rule: ['Java For Dummies'] -> ['Java: The Complete Reference']\n",
      "Support:  0.5\n",
      "Confidence:  0.7692307692307692\n",
      "\n",
      "X: ['Java: The Complete Reference']\n",
      "Y: ['Java For Dummies']\n",
      "Rule: ['Java: The Complete Reference'] -> ['Java For Dummies']\n",
      "Support:  0.5\n",
      "Confidence:  1.0\n",
      "\n",
      "Total time for FP-Growth Algorithm:  0.044740915298461914 seconds\n"
     ]
    }
   ],
   "source": [
    "#print out results\n",
    "print(\"FP-Growth Results\")\n",
    "\n",
    "#define the outputs that we are looking for\n",
    "first_elem_fpg = \"\"\n",
    "second_elem_fpg = \"\"\n",
    "confidence_fpg = 0\n",
    "support_fpg = 0\n",
    "\n",
    "#start loop to go thru each row collecting X, Y, confidence and support and print\n",
    "for index, row in association_rules_fpg.iterrows():\n",
    "  first_elem_fpg = list(row['antecedents'])\n",
    "  second_elem_fpg = list(row['consequents'])\n",
    "  confidence_fpg = row['confidence']\n",
    "  support_fpg = row['support']\n",
    "  print(\"X:\", first_elem_fpg)\n",
    "  print(\"Y:\", second_elem_fpg)\n",
    "  print(\"Rule:\", first_elem_fpg, \"->\", second_elem_fpg)\n",
    "  print(\"Support: \", support_fpg)\n",
    "  print(\"Confidence: \", confidence_fpg)\n",
    "  print()\n",
    "\n",
    "#set end time\n",
    "end_time_fpg = time.time()\n",
    "\n",
    "#compute total time for fpg algorithm\n",
    "total_time_fpg = end_time_fpg - start_time_fpg\n",
    "print(\"Total time for FP-Growth Algorithm: \", total_time_fpg, \"seconds\")"
   ]
  },
  {
   "cell_type": "markdown",
   "metadata": {
    "id": "MNOs7QoMXxPt"
   },
   "source": [
    "## 7. Results and Conclusion"
   ]
  },
  {
   "cell_type": "markdown",
   "metadata": {
    "id": "1g_ECbUNX0M9"
   },
   "source": [
    "The project successfully implemented Brute-Force, Apriori and FP-Growth algorithms to find frequent itemsets and generate association rules from retail datasets.\n",
    "\n",
    "The output was expected to be the same for all the three methods and our code also provided same results. For example, if we use minimum support of 50% and a minimum confidence of 50% for amazon dataset, we will have the following association rules:\n",
    "\n",
    "['Java For Dummies'] -> ['Java: The Complete Reference']\n",
    "\n",
    "['Java: The Complete Reference'] -> ['Java For Dummies']\n",
    "\n",
    "The main difference between the output of the three algorithms is when it comes to the execution time as you can see below.\n",
    "\n"
   ]
  },
  {
   "cell_type": "code",
   "execution_count": 86,
   "metadata": {},
   "outputs": [
    {
     "name": "stdout",
     "output_type": "stream",
     "text": [
      "Total time for Brute Force Algorithm:  0.08844423294067383 seconds\n",
      "Total time for Apriori Algorithm:  0.00099945068359375 seconds\n",
      "Total time for FP-Growth Algorithm:  0.044740915298461914 seconds\n"
     ]
    }
   ],
   "source": [
    "print(\"Total time for Brute Force Algorithm: \", total_time_bf, \"seconds\")\n",
    "print(\"Total time for Apriori Algorithm: \", total_time_apriori, \"seconds\")\n",
    "print(\"Total time for FP-Growth Algorithm: \", total_time_fpg, \"seconds\")"
   ]
  },
  {
   "cell_type": "markdown",
   "metadata": {},
   "source": [
    "The Brute-Force method takes more time because it checks every possible combination of items making it not as much efficient compared to the other two methods.\n",
    "\n",
    "Apriori method use of pruning to avoid going thru all the possible combinations. However, FP-Growth method is typically the fastest because it has a compact tree like data structure. In our project, we noticed that the FP-Growth method was not faster than the Apriori. The reason for Apriori being faster in this project is the number of input data. The FP-Growth method has an initial high time for setup but it can find all the combinations faster once you passed thru the intial stage. In short, the FP-Growth method would be faster for a more complex and large dataset.\n",
    "\n",
    "Finally, this project was a create oportunity to have some hands on experience with association algorithm. As the number of data increases the algorithm has to have a more robust architeture to deal with a big amount of data."
   ]
  },
  {
   "cell_type": "markdown",
   "metadata": {},
   "source": [
    "## 8. Running each algorithm as standalone scripts"
   ]
  },
  {
   "cell_type": "markdown",
   "metadata": {},
   "source": [
    "Make sure you have the Data folder saved in the folder where you have the script files"
   ]
  },
  {
   "cell_type": "markdown",
   "metadata": {},
   "source": [
    "## 8.1 Brute Force "
   ]
  },
  {
   "cell_type": "markdown",
   "metadata": {},
   "source": [
    "![Third data creation screenshot](screenshots/02_Standalone_BruteForce_Script.png)"
   ]
  },
  {
   "cell_type": "markdown",
   "metadata": {},
   "source": [
    "## 8.2 Apriori"
   ]
  },
  {
   "cell_type": "markdown",
   "metadata": {},
   "source": [
    "![Fourth data creation screenshot](screenshots/02_Standalone_Apriori_Script.png)"
   ]
  },
  {
   "cell_type": "markdown",
   "metadata": {},
   "source": [
    "## 8.3 FP-Growth"
   ]
  },
  {
   "cell_type": "markdown",
   "metadata": {},
   "source": [
    "![Fifth data creation screenshot](screenshots/02_Standalone_FPGrowth_Script.png)"
   ]
  }
 ],
 "metadata": {
  "colab": {
   "provenance": []
  },
  "kernelspec": {
   "display_name": "Python [conda env:base] *",
   "language": "python",
   "name": "conda-base-py"
  },
  "language_info": {
   "codemirror_mode": {
    "name": "ipython",
    "version": 3
   },
   "file_extension": ".py",
   "mimetype": "text/x-python",
   "name": "python",
   "nbconvert_exporter": "python",
   "pygments_lexer": "ipython3",
   "version": "3.12.7"
  }
 },
 "nbformat": 4,
 "nbformat_minor": 4
}
